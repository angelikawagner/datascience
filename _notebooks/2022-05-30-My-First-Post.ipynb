{
 "cells": [
  {
   "cell_type": "markdown",
   "id": "f9f7965a",
   "metadata": {},
   "source": [
    "# \"First post\"\n",
    "> \"My awesome first blog post.\"\n",
    "\n",
    "- toc: true\n",
    "- branch: master\n",
    "- badges: true\n",
    "- comments: false\n",
    "- categories: [datascience, jupyter]\n",
    "- image: images/chart-preview.png\n",
    "- hide: false\n",
    "- search_exclude: true\n",
    "- metadata_key1: metadata_value1\n",
    "- metadata_key2: metadata_value2"
   ]
  },
  {
   "cell_type": "markdown",
   "id": "c3bb4050",
   "metadata": {},
   "source": [
    "## Point one"
   ]
  },
  {
   "cell_type": "code",
   "execution_count": 2,
   "id": "13205030",
   "metadata": {},
   "outputs": [
    {
     "data": {
      "text/plain": [
       "4"
      ]
     },
     "execution_count": 2,
     "metadata": {},
     "output_type": "execute_result"
    }
   ],
   "source": [
    "#hide\n",
    "#This is a code cell that is not supposed to show on the blog post.\n",
    "2+2"
   ]
  },
  {
   "cell_type": "code",
   "execution_count": 6,
   "id": "afaeee32",
   "metadata": {},
   "outputs": [
    {
     "name": "stdout",
     "output_type": "stream",
     "text": [
      "Here is some useful output. What is 2 = 2?: 4\n"
     ]
    }
   ],
   "source": [
    "#hide_input\n",
    "#This is a code cell that is only supposed to show the ouput.\n",
    "print(\"Here is some useful output. What is 2 = 2?:\", 2+2)"
   ]
  },
  {
   "cell_type": "code",
   "execution_count": 7,
   "id": "63fed446",
   "metadata": {},
   "outputs": [
    {
     "data": {
      "text/plain": [
       "4"
      ]
     },
     "execution_count": 7,
     "metadata": {},
     "output_type": "execute_result"
    }
   ],
   "source": [
    "#hide_input\n",
    "#This is a code cell that is only supposed to show the ouput.\n",
    "2+2"
   ]
  },
  {
   "cell_type": "code",
   "execution_count": 8,
   "id": "f858c0f7",
   "metadata": {},
   "outputs": [
    {
     "data": {
      "text/plain": [
       "'\\nHere is a lot of text.\\ndsfasf\\n\\nasdf\\nasf\\naa\\ndf\\nasdf\\nadsf\\nasd\\n\\ncel not executed\\n'"
      ]
     },
     "execution_count": 8,
     "metadata": {},
     "output_type": "execute_result"
    }
   ],
   "source": [
    "#collapse\n",
    "\"\"\"\n",
    "Here is a lot of text.\n",
    "dsfasf\n",
    "\n",
    "asdf\n",
    "asf\n",
    "aa\n",
    "df\n",
    "asdf\n",
    "adsf\n",
    "asd\n",
    "\n",
    "cel not executed\n",
    "\"\"\""
   ]
  },
  {
   "cell_type": "markdown",
   "id": "484fd9eb",
   "metadata": {},
   "source": [
    "## Second point\n",
    "\n",
    "Here is a lot of text.\n",
    "dsfasf\n",
    "\n",
    "asdf\n",
    "asf\n",
    "aa\n",
    "df\n",
    "asdf\n",
    "adsf\n",
    "asd\n"
   ]
  },
  {
   "cell_type": "code",
   "execution_count": 9,
   "id": "b570760e",
   "metadata": {},
   "outputs": [
    {
     "data": {
      "text/plain": [
       "'\\nHere is a lot of text.\\ndsfasf\\n\\nasdf\\nasf\\naa\\ndf\\nasdf\\nadsf\\nasd\\n'"
      ]
     },
     "execution_count": 9,
     "metadata": {},
     "output_type": "execute_result"
    }
   ],
   "source": [
    "#collapse_show\n",
    "\"\"\"\n",
    "Option to collapse but open by default.\n",
    "Here is a lot of text.\n",
    "dsfasf\n",
    "\n",
    "asdf\n",
    "asf\n",
    "aa\n",
    "df\n",
    "asdf\n",
    "adsf\n",
    "asd\n",
    "\"\"\""
   ]
  },
  {
   "cell_type": "code",
   "execution_count": 10,
   "id": "246b456c",
   "metadata": {},
   "outputs": [
    {
     "name": "stdout",
     "output_type": "stream",
     "text": [
      "here is output 5\n"
     ]
    }
   ],
   "source": [
    "#collapse_output\n",
    "# show code but collapse output by default\n",
    "print(\"here is output\", 2+3)"
   ]
  },
  {
   "cell_type": "code",
   "execution_count": null,
   "id": "39ca2137",
   "metadata": {},
   "outputs": [],
   "source": []
  }
 ],
 "metadata": {
  "kernelspec": {
   "display_name": "Python 3 (ipykernel)",
   "language": "python",
   "name": "python3"
  },
  "language_info": {
   "codemirror_mode": {
    "name": "ipython",
    "version": 3
   },
   "file_extension": ".py",
   "mimetype": "text/x-python",
   "name": "python",
   "nbconvert_exporter": "python",
   "pygments_lexer": "ipython3",
   "version": "3.7.11"
  }
 },
 "nbformat": 4,
 "nbformat_minor": 5
}
