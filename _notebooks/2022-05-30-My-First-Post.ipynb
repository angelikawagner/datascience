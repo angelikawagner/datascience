{
 "cells": [
  {
   "cell_type": "markdown",
   "id": "db81c5bf",
   "metadata": {},
   "source": [
    "# \"First post\"\n",
    "> \"My awesome first blog post.\"\n",
    "\n",
    "- toc: true\n",
    "- branch: master\n",
    "- badges: true\n",
    "- comments: false\n",
    "- categories: [datascience, jupyter]\n",
    "- image: images/chart-preview.png\n",
    "- hide: false\n",
    "- search_exclude: true\n",
    "- metadata_key1: metadata_value1\n",
    "- metadata_key2: metadata_value2"
   ]
  },
  {
   "cell_type": "code",
   "execution_count": 2,
   "id": "f0c25b84",
   "metadata": {},
   "outputs": [
    {
     "data": {
      "text/plain": [
       "4"
      ]
     },
     "execution_count": 2,
     "metadata": {},
     "output_type": "execute_result"
    }
   ],
   "source": [
    "#hide\n",
    "#This is a code cell that is not supposed to show on the blog post.\n",
    "2+2"
   ]
  },
  {
   "cell_type": "code",
   "execution_count": 3,
   "id": "c1df56d5",
   "metadata": {},
   "outputs": [
    {
     "data": {
      "text/plain": [
       "4"
      ]
     },
     "execution_count": 3,
     "metadata": {},
     "output_type": "execute_result"
    }
   ],
   "source": [
    "#hide_input\n",
    "#This is a code cell that is only supposed to show the ouput.\n",
    "2+2"
   ]
  },
  {
   "cell_type": "code",
   "execution_count": null,
   "id": "1d2087bc",
   "metadata": {},
   "outputs": [],
   "source": [
    "#hide_input\n",
    "#This is a code cell that is only supposed to show the ouput. And I am not executing it.\n",
    "2+2"
   ]
  },
  {
   "cell_type": "code",
   "execution_count": null,
   "id": "18b8f65d",
   "metadata": {},
   "outputs": [],
   "source": [
    "#collapse\n",
    "\"\"\"\n",
    "Here is a lot of text.\n",
    "dsfasf\n",
    "\n",
    "asdf\n",
    "asf\n",
    "aa\n",
    "df\n",
    "asdf\n",
    "adsf\n",
    "asd\n",
    "\n",
    "cel not executed\n",
    "\"\"\""
   ]
  },
  {
   "cell_type": "markdown",
   "id": "998d4c03",
   "metadata": {},
   "source": [
    "#collapse\n",
    "\n",
    "Here is a lot of text.\n",
    "dsfasf\n",
    "\n",
    "asdf\n",
    "asf\n",
    "aa\n",
    "df\n",
    "asdf\n",
    "adsf\n",
    "asd\n"
   ]
  },
  {
   "cell_type": "code",
   "execution_count": 4,
   "id": "4e828e7b",
   "metadata": {},
   "outputs": [
    {
     "data": {
      "text/plain": [
       "'\\nHere is a lot of text.\\ndsfasf\\n\\nasdf\\nasf\\naa\\ndf\\nasdf\\nadsf\\nasd\\n'"
      ]
     },
     "execution_count": 4,
     "metadata": {},
     "output_type": "execute_result"
    }
   ],
   "source": [
    "#collapse_show\n",
    "\"\"\"\n",
    "Here is a lot of text.\n",
    "dsfasf\n",
    "\n",
    "asdf\n",
    "asf\n",
    "aa\n",
    "df\n",
    "asdf\n",
    "adsf\n",
    "asd\n",
    "\"\"\""
   ]
  },
  {
   "cell_type": "code",
   "execution_count": 5,
   "id": "ab21e938",
   "metadata": {},
   "outputs": [
    {
     "name": "stdout",
     "output_type": "stream",
     "text": [
      "here is output 5\n"
     ]
    }
   ],
   "source": [
    "#collapse_output\n",
    "# collapsed by default but show output\n",
    "print(\"here is output\", 2+3)"
   ]
  },
  {
   "cell_type": "code",
   "execution_count": null,
   "id": "30a6a584",
   "metadata": {},
   "outputs": [],
   "source": []
  }
 ],
 "metadata": {
  "kernelspec": {
   "display_name": "Python 3 (ipykernel)",
   "language": "python",
   "name": "python3"
  },
  "language_info": {
   "codemirror_mode": {
    "name": "ipython",
    "version": 3
   },
   "file_extension": ".py",
   "mimetype": "text/x-python",
   "name": "python",
   "nbconvert_exporter": "python",
   "pygments_lexer": "ipython3",
   "version": "3.7.11"
  }
 },
 "nbformat": 4,
 "nbformat_minor": 5
}
